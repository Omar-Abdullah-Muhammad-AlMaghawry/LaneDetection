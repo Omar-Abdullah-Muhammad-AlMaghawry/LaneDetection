{
 "cells": [
  {
   "cell_type": "code",
   "execution_count": 8,
   "metadata": {},
   "outputs": [],
   "source": [
    "import numpy as np\n",
    "import matplotlib.pyplot as plt\n",
    "import cv2\n",
    "from scipy.ndimage import label"
   ]
  },
  {
   "cell_type": "code",
   "execution_count": 9,
   "metadata": {},
   "outputs": [
    {
     "name": "stderr",
     "output_type": "stream",
     "text": [
      "Clipping input data to the valid range for imshow with RGB data ([0..1] for floats or [0..255] for integers).\n"
     ]
    },
    {
     "data": {
      "text/plain": [
       "<matplotlib.image.AxesImage at 0x7f12f4be1f40>"
      ]
     },
     "execution_count": 9,
     "metadata": {},
     "output_type": "execute_result"
    },
    {
     "data": {
      "image/png": "[encoded data removed]",
      "text/plain": [
       "<Figure size 432x288 with 2 Axes>"
      ]
     },
     "metadata": {
      "needs_background": "light"
     },
     "output_type": "display_data"
    }
   ],
   "source": [
    "class HeatMap:\n",
    "    def __init__(self, thresh_val, width=1280, height=720):\n",
    "        self.width = width\n",
    "        self.height = height\n",
    "        self.map = np.zeros((self.height, self.width))\n",
    "        self.thresh_map = np.zeros((self.height, self.width), dtype=np.bool)\n",
    "        self.thresh_val = thresh_val\n",
    "\n",
    "    def add(self, pos_x, pos_y, win_size):\n",
    "        self.map[pos_y : (pos_y + win_size), pos_x : pos_x + win_size] += 1\n",
    "\n",
    "    def update(self, boxes):\n",
    "        for b in boxes:\n",
    "            x, y, size = b\n",
    "            self.add(x, y, size)\n",
    "\n",
    "    def threshold (self):\n",
    "        self.thresh_map[self.map > self.thresh_val] = 1\n",
    "\n",
    "    def draw(self, frame, color=(0,255,0), thickness=10):\n",
    "        labeled, num_labels = label(self.thresh_map)\n",
    "\n",
    "        for i in range(0, num_labels + 1):\n",
    "            xs, ys = (labeled == i).nonzero()\n",
    "            p1 = (np.min(ys), np.min(xs))\n",
    "            p2 = (np.max(ys), np.max(xs))\n",
    "            cv2.rectangle(frame, p1, p2, color, thickness)\n",
    "        \n",
    "        return frame\n",
    "\n",
    "hm = HeatMap(thresh_val=1)\n",
    "# hm.add(800, 450, 70)\n",
    "# hm.add(820, 450, 70)\n",
    "# hm.add(830, 450, 70)\n",
    "# hm.add(840, 450, 70)\n",
    "# hm.add(850, 450, 70)\n",
    "# hm.add(860, 450, 70)\n",
    "# hm.add(870, 450, 70)\n",
    "# hm.add(880, 450, 70)\n",
    "# hm.add(890, 450, 70)\n",
    "# hm.add(900, 450, 70)\n",
    "# hm.add(910, 450, 70)\n",
    "# # Noise\n",
    "# hm.add(345, 230, 45)\n",
    "# hm.add(345, 230, 45)\n",
    "# hm.add(998, 230, 35)\n",
    "# hm.add(573, 456, 65)\n",
    "# hm.add(182, 328, 65)\n",
    "boxes = [\n",
    "        (800, 450, 70),\n",
    "        (820, 450, 70),\n",
    "        (830, 450, 70),\n",
    "        (840, 450, 70),\n",
    "        (850, 450, 70),\n",
    "        (860, 450, 70),\n",
    "        (870, 450, 70),\n",
    "        (880, 450, 70),\n",
    "        (890, 450, 70),\n",
    "        (900, 450, 70),\n",
    "        (910, 450, 70),\n",
    "        (345, 230, 45),\n",
    "        (345, 230, 45),\n",
    "        (998, 230, 35),\n",
    "        (573, 456, 65),\n",
    "        (182, 328, 65)\n",
    "        ]\n",
    "hm.update(boxes)\n",
    "hm.threshold() \n",
    "\n",
    "plt.subplot(1,2,1)\n",
    "plt.imshow(hm.map, cmap='hot')\n",
    "\n",
    "plt.subplot(1,2,2)\n",
    "# plt.imshow(hm.thresh_map,  cmap='gray')\n",
    "\n",
    "test_frame = np.zeros((720, 1280, 3))\n",
    "test_frame = hm.draw(test_frame)\n",
    "plt.imshow(test_frame)"
   ]
  },
  {
   "cell_type": "code",
   "execution_count": 13,
   "metadata": {},
   "outputs": [
    {
     "name": "stderr",
     "output_type": "stream",
     "text": [
      "Clipping input data to the valid range for imshow with RGB data ([0..1] for floats or [0..255] for integers).\n"
     ]
    },
    {
     "data": {
      "text/plain": [
       "<matplotlib.image.AxesImage at 0x7f126e6bbee0>"
      ]
     },
     "execution_count": 13,
     "metadata": {},
     "output_type": "execute_result"
    },
    {
     "data": {
      "image/png": "[encoded data removed]",
      "text/plain": [
       "<Figure size 432x288 with 1 Axes>"
      ]
     },
     "metadata": {
      "needs_background": "light"
     },
     "output_type": "display_data"
    }
   ],
   "source": [
    "def HeatmapThresh(heatmap, threshold=1):\n",
    "    res = np.zeros(heatmap.shape)\n",
    "    res[heatmap > threshold] = 1\n",
    "    return res\n",
    "\n",
    "def HeatmapDraw(thresh_map, frame, color=(0,255,0), thickness=10):\n",
    "    labeled, num_labels = label(thresh_map)\n",
    "    for i in range(1, num_labels + 1):\n",
    "        xs, ys = (labeled == i).nonzero()\n",
    "        p1 = (np.min(ys), np.min(xs))\n",
    "        p2 = (np.max(ys), np.max(xs))\n",
    "        cv2.rectangle(frame, p1, p2, color, thickness)\n",
    "    return frame\n",
    "\n",
    "def HeatmapAdd(heatmap, pos_x, pos_y, win_size):\n",
    "        heatmap[pos_y : (pos_y + win_size), pos_x : pos_x + win_size] += 1\n",
    "        return heatmap\n",
    "\n",
    "def HeatmapUpdate(heatmap, boxes):\n",
    "    for b in boxes:\n",
    "        x, y, size = b\n",
    "        HeatmapAdd(heatmap, x, y, size)\n",
    "    return heatmap\n",
    "\n",
    "boxes =[(800, 450, 70),\n",
    "        (820, 450, 70),\n",
    "        (830, 450, 70),\n",
    "        (840, 450, 70),\n",
    "        (850, 450, 70),\n",
    "        (860, 450, 70),\n",
    "        (870, 450, 70),\n",
    "        (880, 450, 70),\n",
    "        (890, 450, 70),\n",
    "        (900, 450, 70),\n",
    "        (910, 450, 70),\n",
    "        (345, 230, 45),\n",
    "        (345, 230, 45),\n",
    "        (998, 230, 35),\n",
    "        (573, 456, 65),\n",
    "        (182, 328, 65)]\n",
    "\n",
    "heat = np.zeros((720, 1280))\n",
    "thresh_map = np.zeros(heat.shape)\n",
    "test_frame2 = np.zeros((720, 1280, 3))\n",
    "\n",
    "heat = HeatmapUpdate(heat, boxes)\n",
    "thresh_map = HeatmapThresh(heat, threshold=1)\n",
    "\n",
    "test_frame2 = HeatmapDraw(thresh_map, test_frame2)\n",
    "plt.imshow(test_frame2)"
   ]
  },
  {
   "cell_type": "code",
   "execution_count": 11,
   "metadata": {},
   "outputs": [
    {
     "name": "stderr",
     "output_type": "stream",
     "text": [
      "Clipping input data to the valid range for imshow with RGB data ([0..1] for floats or [0..255] for integers).\n"
     ]
    },
    {
     "data": {
      "text/plain": [
       "<matplotlib.image.AxesImage at 0x7f12f4a7f670>"
      ]
     },
     "execution_count": 11,
     "metadata": {},
     "output_type": "execute_result"
    },
    {
     "data": {
      "image/png": "[encoded data removed]",
      "text/plain": [
       "<Figure size 432x288 with 1 Axes>"
      ]
     },
     "metadata": {
      "needs_background": "light"
     },
     "output_type": "display_data"
    }
   ],
   "source": [
    "def AddDebugFrame(frame, debug_frame, x, y, size):\n",
    "    window = cv2.resize(debug_frame, size)\n",
    "    res = np.copy(frame)\n",
    "    \n",
    "    if(len(window.shape) < 3):\n",
    "        res[x:x+size[1],y:y+size[0],0] = window\n",
    "        res[x:x+size[1],y:y+size[0],1] = window\n",
    "        res[x:x+size[1],y:y+size[0],2] = window\n",
    "    else:\n",
    "        res[x:x+size[1],y:y+size[0]] = window\n",
    "    return res\n",
    "\n",
    "test_image = np.ones((720, 1280,3))\n",
    "# test_image[:,:] = (0,0,255)\n",
    "\n",
    "# heat3 = cv2.cvtColor(heat, cv2.COLOR_GRAY2RGB)\n",
    "test_image = AddDebugFrame(test_image, heat, 100, 200, (400,300))\n",
    "plt.imshow(test_image, cmap='gray')"
   ]
  }
 ],
 "metadata": {
  "interpreter": {
   "hash": "916dbcbb3f70747c44a77c7bcd40155683ae19c65e1c03b4aa3499c5328201f1"
  },
  "kernelspec": {
   "display_name": "Python 3.8.10 64-bit",
   "language": "python",
   "name": "python3"
  },
  "language_info": {
   "codemirror_mode": {
    "name": "ipython",
    "version": 3
   },
   "file_extension": ".py",
   "mimetype": "text/x-python",
   "name": "python",
   "nbconvert_exporter": "python",
   "pygments_lexer": "ipython3",
   "version": "3.8.10"
  },
  "orig_nbformat": 4
 },
 "nbformat": 4,
 "nbformat_minor": 2
}
