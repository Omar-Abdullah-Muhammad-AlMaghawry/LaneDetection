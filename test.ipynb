{
 "cells": [
  {
   "cell_type": "code",
   "execution_count": 2,
   "metadata": {},
   "outputs": [
    {
     "name": "stderr",
     "output_type": "stream",
     "text": [
      "/tmp/ipykernel_36675/2144398346.py:1: DeprecationWarning: the imp module is deprecated in favour of importlib; see the module's documentation for alternative uses\n",
      "  import imp\n"
     ]
    }
   ],
   "source": [
    "import imp\n",
    "from io import BytesIO\n",
    "from cv2 import COLOR_BGR2GRAY, VideoCapture, threshold\n",
    "import numpy as np\n",
    "import cv2\n",
    "import glob\n",
    "import matplotlib as mpl\n",
    "import matplotlib.pyplot as plt\n",
    "from IPython.display import Image\n",
    "\n",
    "from scipy import signal\n",
    "from IPython.display import HTML\n",
    "\n",
    "\n",
    "from multiprocessing import Pool, pool\n",
    "from functools import partial\n"
   ]
  },
  {
   "cell_type": "code",
   "execution_count": 3,
   "metadata": {},
   "outputs": [],
   "source": [
    "def calibrate_camera():\n",
    "    objpoints = []\n",
    "    imgpoints = []\n",
    "\n",
    "    obj = np.zeros(shape=(6*9, 3), dtype=np.float32)\n",
    "    obj[:, :2] = np.mgrid[0:9, 0:6].T.reshape(-1, 2)        \n",
    "\n",
    "    images = glob.glob(\"camera_cal/*.jpg\")\n",
    "    for i in images:\n",
    "        img = cv2.imread(i)\n",
    "        if(img.shape[0] != 720 or img.shape[1] != 1280):\n",
    "            img = cv2.resize(img, (1280, 720))\n",
    "\n",
    "        gray = cv2.cvtColor(img, cv2.COLOR_BGR2GRAY)\n",
    "        ret, corners = cv2.findChessboardCorners(gray, (9, 6))\n",
    "\n",
    "        if(ret):\n",
    "            imgpoints.append(corners)\n",
    "            objpoints.append(obj)\n",
    "\n",
    "    return cv2.calibrateCamera(objpoints, imgpoints, gray.shape, None, None)\n",
    "\n",
    "def undistort_camera(input_image, calib_params):\n",
    "    return cv2.undistort(input_image, calib_params[1], calib_params[2])"
   ]
  },
  {
   "cell_type": "code",
   "execution_count": 4,
   "metadata": {},
   "outputs": [],
   "source": [
    "def binaryFilterRoadPavement (img):\n",
    "    HSV = cv2.cvtColor(img, cv2.COLOR_BGR2HSV)\n",
    "\n",
    "    #calc the dimionsion of rio, and the posion of it\n",
    "    width = img.shape[1]\n",
    "    height = img.shape[0]\n",
    "    xCenter = np.int(width/2)\n",
    "    rioWidth = 100\n",
    "    rioHeight = 200\n",
    "    xLeft  = xCenter  - np.int(rioWidth/2)\n",
    "    xRight  = xCenter  + np.int(rioWidth/2)\n",
    "    yTop =  height - 30\n",
    "    yBottom = height - rioHeight\n",
    "    yBottomSmall = yTop - np.int(rioHeight/2)\n",
    "    xOffset= 50\n",
    "    xFinish =  width - xOffset\n",
    "\n",
    "    #get the rio from image by slicing the img\n",
    "    #the middle\n",
    "    rioCenter = img[yBottom :yTop, xLeft:xRight ]\n",
    "    #the left side\n",
    "    rioLeft  = img[yBottomSmall:yTop, xOffset:(xOffset + rioWidth)]\n",
    "    #the right side\n",
    "    rioRight = img [yBottomSmall:yTop, (xFinish- rioWidth) : xFinish]\n",
    "    #put them beside each other\n",
    "    rio = np.hstack((rioCenter[0:170],np.vstack((rioLeft,rioRight)[0:170])))##################\n",
    "    rioHSV = cv2.cvtColor(rio,cv2.COLOR_BGR2HSV)\n",
    "\n",
    "    #calc histiogrma\n",
    "    rioHist = cv2.calcHist([rioHSV],[0,1],None, [256,256],[0,256,0,256])\n",
    "\n",
    "\n",
    "    #normalize the histo\n",
    "    cv2.normalize(rioHist,rioHist,0,255,cv2.NORM_MINMAX)\n",
    "    #reflect it into to the img \n",
    "    dst = cv2.calcBackProject([rioHSV],[0,1],rioHist,[0,256,0,256],1)##########\n",
    "\n",
    "    #cracte the filter we go with it throught the image\n",
    "    disc = cv2.getStructuringElement(cv2.MORPH_ELLIPSE, (3,3))\n",
    "    cv2.filter2D(dst, -1, disc, dst)\n",
    "\n",
    "    #thershold the image\n",
    "    ret , thersh  = cv2.threshold(dst,10, 250, cv2.THRESH_BINARY_INV)\n",
    "\n",
    "    return thersh\n",
    "\n",
    "\n",
    "def compinedThreshold(img, kernal = 3, gradThreshold= (30,100), magThreshold =(70, 100),\n",
    "                    dirThreshold =(0.8, 0.9), sThreshold = (100, 255),rThreshold = (150, 255),\n",
    "                    uThreshold = (140,180), threshold = \"dayTime-filter-pavement\"):\n",
    "\n",
    "\n",
    "    def binaryThreshold(channel, thresh =(200,255), on = 1):\n",
    "        binary = np.zeros_like(channel)\n",
    "        binary[(channel > thresh[0]) & (channel <= thresh[1])] = on\n",
    "\n",
    "        return binary\n",
    "        \n",
    "    if threshold in [\"dayTime-bright\",  \"dayTime-filter-pavement\"]:\n",
    "        rThreshold = (210, 255)\n",
    "\n",
    "    #cvt to gray\n",
    "    gray =cv2.cvtColor(img, cv2.COLOR_BGR2GRAY)\n",
    "\n",
    "    #sobel in x dir, and y dir\n",
    "    sobelx = cv2.Sobel(gray, cv2.CV_64F, 1, 0, ksize= kernal)\n",
    "    sobely = cv2.Sobel(gray, cv2.CV_64F , 0, 1, ksize=kernal)\n",
    "\n",
    "    #sobel x grad binary\n",
    "    absSobelX = np.absolute(sobelx)\n",
    "    scaledAbsSobelx = np.uint8(255 * (absSobelX/np.max(absSobelX)))\n",
    "    gradX = binaryThreshold(scaledAbsSobelx,gradThreshold)\n",
    "\n",
    "    #sobel y grad binary\n",
    "    absSobelY = np.absolute(sobely)\n",
    "    scaledAbsSobelY = np.uint8(255 * (absSobelY/np.max(absSobelY)))\n",
    "    gradY = binaryThreshold(scaledAbsSobelY, gradThreshold)\n",
    "\n",
    "\n",
    "    #sobel mag grad binary\n",
    "    gradMag = np.sqrt(sobelx**2 + sobely**2)\n",
    "    scaledGradMag = np.uint8(255 * (gradMag/ np.max(gradMag)))\n",
    "    gradMagBinary = binaryThreshold(scaledGradMag, magThreshold)\n",
    "\n",
    "    #sobel dir binar\n",
    "    # gradDir = np.arctan2(absSobelY/absSobelY)\n",
    "    gradDir = np.arctan2(absSobelY,absSobelX)\n",
    "    scaledGradDir = np.uint8(255 * (gradDir / np.max(gradDir)))\n",
    "    gradDirBinary =  binaryThreshold(scaledGradDir, dirThreshold)\n",
    "\n",
    "\n",
    "    #RGB color\n",
    "    R = img[:,:,2]\n",
    "    G = img[:,:,1]\n",
    "    B = img[:,:,0]\n",
    "    RBinary = binaryThreshold(R,rThreshold)\n",
    "\n",
    "    #HLS colour \n",
    "    hls = cv2.cvtColor(img, cv2.COLOR_BGR2HLS)\n",
    "    H = img[:,:,0]\n",
    "    L = img[:,:,1]\n",
    "    S = img[:,:,2]\n",
    "    SBinary = binaryThreshold(S, sThreshold)\n",
    "\n",
    "    #YUV colour \n",
    "    hls = cv2.cvtColor(img, cv2.COLOR_BGR2YUV)\n",
    "    Y = img[:,:,0]\n",
    "    U = img[:,:,1]\n",
    "    V = img[:,:,2]\n",
    "    UBinary = binaryThreshold(U, uThreshold)\n",
    "\n",
    "\n",
    "    compined = np.zeros_like(gradDirBinary)\n",
    "\n",
    "    if threshold == \"dayTime-normal\":\n",
    "        compined[ (gradX==1) | (SBinary==1) | (RBinary == 1) ] = 1\n",
    "    elif threshold == \"dayTime-shadow\":\n",
    "        compined[((gradX == 1) & (gradY == 1)) | (RBinary == 1)] = 1\n",
    "    elif threshold == \"dayTime-bright\":\n",
    "        compined[((gradX == 1) & (gradY ==1)) | ((gradMagBinary == 1)& (gradDirBinary == 1)) | (SBinary == 1) | (RBinary == 1)] = 1\n",
    "    elif threshold == \"dayTime-filter-pavement\":\n",
    "        roadBinary = binaryThreshold(binaryFilterRoadPavement(img))\n",
    "        compined [(((gradX ==1) | (SBinary ==1)) & (roadBinary == 1)) | (RBinary == 1)] = 1\n",
    "    else:\n",
    "        compined[((gradX ==1) | (RBinary ==1)) & ((SBinary == 1) | (UBinary == 1) | (RBinary == 1))] = 1\n",
    "\n",
    "    return compined\n"
   ]
  },
  {
   "cell_type": "code",
   "execution_count": 5,
   "metadata": {},
   "outputs": [
    {
     "data": {
      "text/plain": [
       "<matplotlib.image.AxesImage at 0x7fccf4cfa7f0>"
      ]
     },
     "execution_count": 5,
     "metadata": {},
     "output_type": "execute_result"
    },
    {
     "data": {
      "image/png": "[encoded data removed]",
      "text/plain": [
       "<Figure size 432x288 with 1 Axes>"
      ]
     },
     "metadata": {
      "needs_background": "light"
     },
     "output_type": "display_data"
    }
   ],
   "source": [
    "img = plt.imread(\"Project_data/test_images/test5.jpg\")\n",
    "calib_params = calibrate_camera()\n",
    "undis = undistort_camera(img,calib_params)\n",
    "test = compinedThreshold(undis,threshold=\"dayTime-normal\")\n",
    "plt.imshow(test)"
   ]
  },
  {
   "cell_type": "code",
   "execution_count": 6,
   "metadata": {},
   "outputs": [],
   "source": [
    "  \n",
    "def perspective_transforms(src,dst):\n",
    "    M = cv2.getPerspectiveTransform(src,dst)\n",
    "    MInv = cv2.getPerspectiveTransform(src,dst)\n",
    "    return M, MInv\n",
    "\n",
    "def warp(img, M):\n",
    "    imgSize = (img.shape[0],img.shape[1])\n",
    "\n",
    "    warpped = cv2.warpPerspective(img, M,imgSize,flags = cv2.INTER_LINEAR)\n",
    "    return warpped\n",
    "\n",
    "def uuWarp(img, MInv):\n",
    "    imgSize = (img.shape[0],img.shape[1])\n",
    "\n",
    "    unWarpped = cv2.warpPerspective(img, MInv,imgSize,flasgs = cv2.INTER_LINEAR)\n",
    "    return unWarpped\n",
    "\n",
    "def clacWarpPoint(imgHeight, imgWidth, xCenterAdj = 0):\n",
    "\n",
    "    imgShape  = (imgHeight,imgWidth)\n",
    "    xCenter = imgShape[1]/2 + xCenterAdj\n",
    "\n",
    "    xBottom  = 54#fronttt\n",
    "    yBottom = 450\n",
    "    xOffset = 120\n",
    "\n",
    "    src = np.float32(\n",
    "        [(xOffset,imgShape[0]),\n",
    "        (xCenter-xBottom,yBottom),\n",
    "        (xCenter + xBottom, yBottom),\n",
    "        (imgShape[1]-xOffset, imgShape[0])\n",
    "\n",
    "        ]\n",
    "    )\n",
    "\n",
    "    #with the same order we map 1st point -> 1st point \n",
    "\n",
    "    dst = np.float32(\n",
    "        [(xOffset,imgShape[1]),\n",
    "        (xOffset,0),\n",
    "        (imgShape[0]-xOffset, 0),\n",
    "        (imgShape[0]-xOffset, imgShape[1])\n",
    "        ]\n",
    "    )\n",
    "\n",
    "    return src , dst\n"
   ]
  },
  {
   "cell_type": "code",
   "execution_count": 7,
   "metadata": {},
   "outputs": [
    {
     "data": {
      "text/plain": [
       "<matplotlib.image.AxesImage at 0x7fccf4bd89d0>"
      ]
     },
     "execution_count": 7,
     "metadata": {},
     "output_type": "execute_result"
    },
    {
     "data": {
      "image/png": "[encoded data removed]",
      "text/plain": [
       "<Figure size 432x288 with 1 Axes>"
      ]
     },
     "metadata": {
      "needs_background": "light"
     },
     "output_type": "display_data"
    }
   ],
   "source": [
    "src,dst = clacWarpPoint(img.shape[1], img.shape[0])\n",
    "M,_ = perspective_transforms(src,dst)\n",
    "warpped = warp(undis , M)\n",
    "test = compinedThreshold(warpped,threshold=\"dayTime-normal\")\n",
    "plt.imshow(warpped)"
   ]
  },
  {
   "cell_type": "code",
   "execution_count": 8,
   "metadata": {},
   "outputs": [],
   "source": [
    "\n",
    "def binaryImage(img, calib_params , threshold =\"dayTime-normal\"):\n",
    "\n",
    "    \n",
    "    def noiseDetect(warpped) :\n",
    "        histogram = np.sum(warpped, axis= 1)\n",
    "        return (histogram>100).any() \n",
    "\n",
    "    #############undistort\n",
    "    undistort = undistort_camera(img, calib_params)\n",
    "\n",
    "    src, dst = clacWarpPoint(undistort.shape[0],undistort.shape[1])\n",
    "\n",
    "    M, _ =perspective_transforms(src,dst)\n",
    "\n",
    "    if threshold == \"dayTime-normal\":\n",
    "        # warpped  = warp(undistort,M)\n",
    "        # compined =compinedThreshold(warpped, threshold=threshold)\n",
    "\n",
    "\n",
    "        compined =compinedThreshold(undistort, threshold=threshold)\n",
    "        warpped  = warp(compined,M)\n",
    "        if noiseDetect(warpped):\n",
    "            compined = compinedThreshold(undistort, threshold= \"dayTime-shadow\")\n",
    "            warpped = warp(compined, M)\n",
    "\n",
    "            # warpped  = warp(undistort,M)\n",
    "            # compined =compinedThreshold(warpped, threshold=\"dayTime-shadow\")\n",
    "\n",
    "    else :\n",
    "        compined =compinedThreshold(undistort, threshold=threshold)\n",
    "        warpped  = warp(compined,M)\n",
    "\n",
    "        # warpped  = warp(undistort,M)\n",
    "        # compined =compinedThreshold(warpped, threshold=threshold)\n",
    "\n",
    "    return warpped"
   ]
  },
  {
   "cell_type": "code",
   "execution_count": 9,
   "metadata": {},
   "outputs": [
    {
     "data": {
      "text/plain": [
       "113"
      ]
     },
     "execution_count": 9,
     "metadata": {},
     "output_type": "execute_result"
    },
    {
     "data": {
      "image/png": "[encoded data removed]",
      "text/plain": [
       "<Figure size 432x288 with 1 Axes>"
      ]
     },
     "metadata": {
      "needs_background": "light"
     },
     "output_type": "display_data"
    }
   ],
   "source": [
    "test = binaryImage(img,calib_params,threshold=\"dayTime-bright\")\n",
    "plt.imshow(test, cmap='gray')\n",
    "cv2.imshow(\"lane\",np.array(test, dtype = np.uint8 ))\n",
    "cv2.waitKey(int(1000*30))\n"
   ]
  },
  {
   "cell_type": "code",
   "execution_count": 10,
   "metadata": {},
   "outputs": [],
   "source": [
    "\n",
    "def laneHisto(img, heightS=800, heightE = 1250):\n",
    "    histogram = np.sum(img[int(heightS):int(heightE),:], axis = 0)\n",
    "    return histogram\n",
    "\n",
    "def lanePeaks(histo):\n",
    "    peaks= signal.find_peaks_cwt(histo, np.arange(1,150),min_length=150)\n",
    "    midpoint = np.int(histo.shape[0]/2)\n",
    "\n",
    "\n",
    "    #if there more than one peaks happens in shadows\n",
    "    if len(peaks) > 1:\n",
    "        peakLeft , *_, PeakRight = peaks\n",
    "\n",
    "    else :\n",
    "        #there's only two\n",
    "        peakLeft = np.argmax(histo[:midpoint])\n",
    "        peakRight =midpoint + np.argmax(histo[midpoint:])\n",
    "\n",
    "    return peakLeft, peakRight\n",
    "\n",
    "\n",
    "class WindowBox (object):\n",
    "    def __init__(self, binaryimg, xCenter,yTop , width = 100, height = 80, minCount = 50, laneFound = False):\n",
    "        self.xCenter = xCenter\n",
    "        self.yTop = yTop\n",
    "        self.width = width\n",
    "        self.height = height\n",
    "        self.minCount = minCount\n",
    "        self.laneFound = laneFound\n",
    "\n",
    "        #drived\n",
    "        self.xLeft = self.xCenter - int(self.width/2)\n",
    "        self.xRight = self.xCenter + int(self.width/2)\n",
    "        self.yBottom = self.yTop - self.height\n",
    "\n",
    "        self.imgWindow = binaryimg[\n",
    "            self.yBottom:self.yTop,\n",
    "            self.xLeft: self.xRight\n",
    "        ]\n",
    "\n",
    "        #get these non zeros from the slice of the image so 0,0 it's for the window not the total img\n",
    "        self.nonZeroY = self.imgWindow.nonzero()[0]\n",
    "        self.nonZeroX = self.imgWindow.nonzero()[1] \n",
    "        # self.nonZeroY = np.nonzero(self.imgWindow)[0]\n",
    "        # self.nonZeroX = np.nonzero(self.imgWindow)[1]\n",
    "\n",
    "        \n",
    "    def center(self):\n",
    "        return (self.xCenter, (self.yTop-self.yBottom)/2)\n",
    "\n",
    "    def _nonZeroCount(self):\n",
    "        return len(self.nonZeroX)\n",
    "\n",
    "    def _isNoise(self):\n",
    "        return (self._nonZeroCount()>self.imgWindow.shape[0] * self.imgWindow.shape[1] * 0.75)\n",
    "\n",
    "    def hasLine(self):\n",
    "        return (self._nonZeroCount() > self.minCount ) ^ self._isNoise() \n",
    "\n",
    "    def nextWindow(self, binaryImg):\n",
    "\n",
    "        if self.hasLine():\n",
    "            #recenter\n",
    "            xCenter  = np.int(np.mean(self.nonZeroX + self.xLeft))\n",
    "\n",
    "        else:\n",
    "            #same\n",
    "            xCenter = self.xCenter\n",
    "\n",
    "        #it starts from the one after it \n",
    "        yTop = self.yBottom\n",
    "\n",
    "        return WindowBox(binaryImg,xCenter,yTop, width=self.width,\n",
    "                        height=self.height, minCount= self.minCount,\n",
    "                        laneFound=self.laneFound)\n",
    "\n",
    "    def hasLane(self):\n",
    "        if not self.laneFound and self.hasLine():\n",
    "            self.laneFound =True\n",
    "        return self.laneFound\n",
    "\n",
    "    def getYTop(self):\n",
    "        return self.yTop\n",
    "    def __str__(self):\n",
    "        return \"WindowBox [%.3f, %.3f, %.3f, %.3f]\" % (self.xLeft,\n",
    "                                                       self.yBottom,\n",
    "                                                       self.xRight,\n",
    "                                                       self.yTop)\n",
    "\n",
    "\n",
    "def findLaneWindows(windowBox, binaryImg):\n",
    "    boxes = []\n",
    "\n",
    "    #add all windows on the frame for one line\n",
    "\n",
    "    continueLaneSearch  = True\n",
    "    contugousBoxNoLineCount = 0\n",
    "\n",
    "    #we search uless the frame is ended or we go on wrong path where there no lines\n",
    "    while(continueLaneSearch and windowBox.getYTop() >= 0):\n",
    "        if windowBox.hasLine():\n",
    "            boxes.append(windowBox)\n",
    "\n",
    "        windowBox = windowBox.nextWindow(binaryImg)\n",
    "\n",
    "        if windowBox.hasLane() :\n",
    "            if windowBox.hasLine():\n",
    "                contugousBoxNoLineCount = 0\n",
    "            else:\n",
    "                contugousBoxNoLineCount += 1\n",
    "\n",
    "                if contugousBoxNoLineCount >= 4:\n",
    "                    continueLaneSearch = False\n",
    "\n",
    "    return boxes\n",
    "\n",
    "\n",
    "\n",
    "def calcLeftAndRightlaneWindows (binaryImage, nWindows = 12 , width = 100):\n",
    "\n",
    "    windowHeight = np.int(binaryImage.shape[0] / nWindows)\n",
    "\n",
    "    #left, and right lane centers\n",
    "    windowStartLeft , windowStartRight = lanePeaks(laneHisto(img=binaryImage))\n",
    "\n",
    "    #the y we start from to detect lines\n",
    "    windowYTop = binaryImage.shape[0]\n",
    "\n",
    "\n",
    "    startWindBoxL = WindowBox(binaryImage, windowStartLeft, windowYTop, width=width, height=windowHeight)\n",
    "\n",
    "    startWindBoxR = WindowBox(binaryImage, windowStartRight, windowYTop, width=width, height=windowHeight)\n",
    "    \n",
    "\n",
    "    findLaneWindowsFixedArg = partial(findLaneWindows, binaryImg= binaryImage)\n",
    "\n",
    "    # paralel function in two threads with different data\n",
    "    with Pool(2) as p : \n",
    "        leftBox, rightBox = p.map(findLaneWindowsFixedArg, [startWindBoxL,startWindBoxR])\n",
    "\n",
    "    # leftBox = findLaneWindows(startWindBoxL, binaryImg=binaryImage)\n",
    "    # rightBox = findLaneWindows(startWindBoxR, binaryImg=binaryImage)\n",
    "\n",
    "    return (leftBox, rightBox)\n",
    "\n",
    "def calcFitFromBoxes(boxes):\n",
    "    if len(boxes) > 0:\n",
    "        #flatten put the vales besides each othe in 1d array\n",
    "\n",
    "        #the nonzero represnt the point in the window img not the total image so we sum (0,0) on it left\n",
    "        x = np.concatenate([box.nonZeroX + box.xLeft for box in boxes])\n",
    "        y = np.concatenate([box.nonZeroY + box.yBottom for box in boxes])\n",
    "\n",
    "        return np.polyfit(y,x,2) #a x**2 + b * x + c\n",
    "    else:\n",
    "        return None\n",
    "\n",
    "\n",
    "\n",
    "def clacFitX(fitY, lineFit):\n",
    "    fitLineX = lineFit[0] * fitY**2 + lineFit[1] * fitY + lineFit[2]\n",
    "    return fitLineX\n",
    "\n",
    "\n",
    "def calcLeftRightFromPoly(binimg, leftFit, rightFit, margin):\n",
    "    nonzero = binimg.nonzero()\n",
    "    nonzeroY = np.array(nonzero[0])\n",
    "    nonzerox = np.array(nonzero[1])\n",
    "\n",
    "    def windowLane(poly):\n",
    "        return (\n",
    "            (nonzerox > (poly[0]* (nonzeroY**2) + poly[1]*nonzeroY + poly[2] - margin))\n",
    "            & (nonzerox > (poly[0]* (nonzeroY**2) + poly[1]*nonzeroY + poly[2] + margin))\n",
    "\n",
    "        ) \n",
    "\n",
    "    def windowPolyFit (lane):\n",
    "        x = nonzerox[lane]\n",
    "        y = nonzeroY[lane]\n",
    "\n",
    "        return np.polyfit(y,x,2)\n",
    "\n",
    "    newLeftFit = leftFit\n",
    "    if leftFit is not None:\n",
    "        newLeftFit = windowPolyFit(windowLane(leftFit))\n",
    "\n",
    "    newRightFit = rightFit\n",
    "\n",
    "    print(rightFit)\n",
    "    if rightFit is not None:\n",
    "        newRightFit = windowPolyFit(windowLane(rightFit))\n",
    "\n",
    "    return (newLeftFit,newRightFit)\n"
   ]
  },
  {
   "cell_type": "code",
   "execution_count": 19,
   "metadata": {},
   "outputs": [],
   "source": [
    "def lines(img, withMargin = 1):\n",
    "    topDowmImage =binaryImage(  img,calib_params=calib_params)\n",
    "    height = topDowmImage.shape[0]\n",
    "    histogram = laneHisto(topDowmImage)\n",
    "    peakLeft , peakRight = lanePeaks(histogram)\n",
    "    boxLeft, boxRight = calcLeftAndRightlaneWindows(topDowmImage,width=150)\n",
    "    leftFit = calcFitFromBoxes(boxLeft)\n",
    "    rightFit = calcFitFromBoxes(boxRight)\n",
    "\n",
    "    fitY = np.linspace(0, height-1, height)\n",
    "    if leftFit is not None: \n",
    "        fit_leftx = clacFitX(fitY, leftFit)\n",
    "    if rightFit is not None: \n",
    "        fit_rightx = clacFitX(fitY, rightFit)\n",
    "\n",
    "    \n",
    "    margin=100\n",
    "    new_left_fit, new_right_fit = calcLeftRightFromPoly(topDowmImage, leftFit, rightFit, margin)\n",
    "    \n",
    "    if new_left_fit is not None:\n",
    "        new_leftx = clacFitX(fitY, new_left_fit)\n",
    "    if new_right_fit is not None:    \n",
    "        new_rightx = clacFitX(fitY, new_right_fit)\n",
    "    # f, ((ax3,ax4), (ax1, ax2)) = plt.subplots(2, 2, figsize=(20,10))\n",
    "    # ax1.set_title(\"warped box seek\")\n",
    "    # ax1.imshow(topDowmImage,cmap='gray')\n",
    "    # ax1.plot(height-histogram)\n",
    "    # ax1.plot((height,peakLeft), (height,height-histogram[peakLeft]), 'rx')\n",
    "    # ax1.plot((height,peakRight), (height,height-histogram[peakRight]), 'rx')\n",
    "    # # for b in boxLeft + boxRight:\n",
    "    # #     ax1.add_patch(patches.Rectangle((b.x_left, b.y_bottom),b.width,b.height,facecolor=\"none\",edgecolor=\"green\"))\n",
    "    # if new_leftx is not None:\n",
    "    #     ax1.plot(fit_leftx , fitY, color='yellow')\n",
    "    # if new_rightx is not None:\n",
    "    #     ax1.plot(fit_rightx, fitY, color='yellow')\n",
    "    # ax1.set_xlim(0, 720)\n",
    "    # ax1.set_ylim(1280, 0)\n",
    "\n",
    "    if withMargin != 1:\n",
    "        return (fit_leftx, fit_rightx)\n",
    "    else:\n",
    "         return (new_leftx ,new_rightx) \n",
    "    # return clacFitX(fitY, leftFit), clacFitX(fitY, rightFit)\n",
    "\n",
    "def drawLines(img, vertices):\n",
    "    pts= np.int32([vertices])\n",
    "    cv2.polylines(img, pts, True, (0,0,255))\n",
    "            "
   ]
  },
  {
   "cell_type": "code",
   "execution_count": 109,
   "metadata": {},
   "outputs": [],
   "source": [
    "\n",
    "def drawLaneWarp(img):\n",
    "    height = img.shape[0]\n",
    "    leftX, ritghX = lines(img, withMargin = 0)\n",
    "    topDowmImage = binaryImage(img,calib_params=calib_params)\n",
    "\n",
    "    heightTD = topDowmImage.shape[0]\n",
    "    fitY = np.linspace(0, heightTD-1, heightTD)\n",
    "\n",
    "\n",
    "    black = np.zeros_like(topDowmImage)\n",
    "\n",
    "    pts_left = np.array([np.transpose(np.vstack([leftX,fitY]))])\n",
    "    pts_right = np.array([np.flipud(np.transpose(np.vstack([ritghX,fitY ])))])\n",
    "    pts = np.hstack((pts_left, pts_right))\n",
    "   \n",
    "\n",
    "    # cv2.fillPoly(black, np.int_([pts]),(255,255,255))\n",
    "\n",
    "    # histogram = laneHisto(topDowmImage)\n",
    "    # hist_pts=[[i, height-histogram[i]] for i in range(0,topDowmImage.shape[1] -1)]\n",
    "\n",
    "    # cv2.polylines(topDowmImage,np.int_([hist_pts]), False, (255,255,255))\n",
    "\n",
    "    cv2.polylines(black,np.int_([pts_left]), False, (255,255,255))\n",
    "    cv2.polylines(black,np.int_([pts_right]), False, (255,255,255))\n",
    "\n",
    "    # result = topDowmImage | black\n",
    "\n",
    "\n",
    "    result = cv2.addWeighted(topDowmImage, .7,black, 0.2, 0)\n",
    "    plt.imshow(result,cmap=\"gray\")\n",
    "    return result\n",
    "   \n",
    "\n"
   ]
  },
  {
   "cell_type": "code",
   "execution_count": 102,
   "metadata": {},
   "outputs": [
    {
     "name": "stderr",
     "output_type": "stream",
     "text": [
      "/tmp/ipykernel_36675/4095638702.py:7: DeprecationWarning: `np.int` is a deprecated alias for the builtin `int`. To silence this warning, use `int` by itself. Doing this will not modify any behavior and is safe. When replacing `np.int`, you may wish to use e.g. `np.int64` or `np.int32` to specify the precision. If you wish to review your current use, check the release note link for additional information.\n",
      "Deprecated in NumPy 1.20; for more details and guidance: https://numpy.org/devdocs/release/1.20.0-notes.html#deprecations\n",
      "  midpoint = np.int(histo.shape[0]/2)\n",
      "/tmp/ipykernel_36675/4095638702.py:121: DeprecationWarning: `np.int` is a deprecated alias for the builtin `int`. To silence this warning, use `int` by itself. Doing this will not modify any behavior and is safe. When replacing `np.int`, you may wish to use e.g. `np.int64` or `np.int32` to specify the precision. If you wish to review your current use, check the release note link for additional information.\n",
      "Deprecated in NumPy 1.20; for more details and guidance: https://numpy.org/devdocs/release/1.20.0-notes.html#deprecations\n",
      "  windowHeight = np.int(binaryImage.shape[0] / nWindows)\n",
      "/tmp/ipykernel_36675/4095638702.py:64: DeprecationWarning: `np.int` is a deprecated alias for the builtin `int`. To silence this warning, use `int` by itself. Doing this will not modify any behavior and is safe. When replacing `np.int`, you may wish to use e.g. `np.int64` or `np.int32` to specify the precision. If you wish to review your current use, check the release note link for additional information.\n",
      "Deprecated in NumPy 1.20; for more details and guidance: https://numpy.org/devdocs/release/1.20.0-notes.html#deprecations\n",
      "  xCenter  = np.int(np.mean(self.nonZeroX + self.xLeft))\n",
      "/tmp/ipykernel_36675/4095638702.py:64: DeprecationWarning: `np.int` is a deprecated alias for the builtin `int`. To silence this warning, use `int` by itself. Doing this will not modify any behavior and is safe. When replacing `np.int`, you may wish to use e.g. `np.int64` or `np.int32` to specify the precision. If you wish to review your current use, check the release note link for additional information.\n",
      "Deprecated in NumPy 1.20; for more details and guidance: https://numpy.org/devdocs/release/1.20.0-notes.html#deprecations\n",
      "  xCenter  = np.int(np.mean(self.nonZeroX + self.xLeft))\n"
     ]
    },
    {
     "name": "stdout",
     "output_type": "stream",
     "text": [
      "[ 1.23020039e-04 -2.30777806e-01  7.22694848e+02]\n"
     ]
    },
    {
     "data": {
      "text/plain": [
       "array([[0, 0, 0, ..., 0, 0, 0],\n",
       "       [0, 0, 0, ..., 0, 0, 0],\n",
       "       [0, 0, 0, ..., 0, 0, 0],\n",
       "       ...,\n",
       "       [0, 0, 0, ..., 0, 0, 0],\n",
       "       [0, 0, 0, ..., 0, 0, 0],\n",
       "       [0, 0, 0, ..., 0, 0, 0]], dtype=uint8)"
      ]
     },
     "execution_count": 102,
     "metadata": {},
     "output_type": "execute_result"
    },
    {
     "data": {
      "image/png": "[encoded data removed]",
      "text/plain": [
       "<Figure size 432x288 with 1 Axes>"
      ]
     },
     "metadata": {
      "needs_background": "light"
     },
     "output_type": "display_data"
    }
   ],
   "source": [
    "drawLaneWarp(undis)"
   ]
  },
  {
   "cell_type": "code",
   "execution_count": 110,
   "metadata": {},
   "outputs": [
    {
     "name": "stderr",
     "output_type": "stream",
     "text": [
      "/tmp/ipykernel_36675/4095638702.py:7: DeprecationWarning: `np.int` is a deprecated alias for the builtin `int`. To silence this warning, use `int` by itself. Doing this will not modify any behavior and is safe. When replacing `np.int`, you may wish to use e.g. `np.int64` or `np.int32` to specify the precision. If you wish to review your current use, check the release note link for additional information.\n",
      "Deprecated in NumPy 1.20; for more details and guidance: https://numpy.org/devdocs/release/1.20.0-notes.html#deprecations\n",
      "  midpoint = np.int(histo.shape[0]/2)\n",
      "/tmp/ipykernel_36675/4095638702.py:121: DeprecationWarning: `np.int` is a deprecated alias for the builtin `int`. To silence this warning, use `int` by itself. Doing this will not modify any behavior and is safe. When replacing `np.int`, you may wish to use e.g. `np.int64` or `np.int32` to specify the precision. If you wish to review your current use, check the release note link for additional information.\n",
      "Deprecated in NumPy 1.20; for more details and guidance: https://numpy.org/devdocs/release/1.20.0-notes.html#deprecations\n",
      "  windowHeight = np.int(binaryImage.shape[0] / nWindows)\n",
      "/tmp/ipykernel_36675/4095638702.py:64: DeprecationWarning: `np.int` is a deprecated alias for the builtin `int`. To silence this warning, use `int` by itself. Doing this will not modify any behavior and is safe. When replacing `np.int`, you may wish to use e.g. `np.int64` or `np.int32` to specify the precision. If you wish to review your current use, check the release note link for additional information.\n",
      "Deprecated in NumPy 1.20; for more details and guidance: https://numpy.org/devdocs/release/1.20.0-notes.html#deprecations\n",
      "  xCenter  = np.int(np.mean(self.nonZeroX + self.xLeft))\n",
      "/tmp/ipykernel_36675/4095638702.py:64: DeprecationWarning: `np.int` is a deprecated alias for the builtin `int`. To silence this warning, use `int` by itself. Doing this will not modify any behavior and is safe. When replacing `np.int`, you may wish to use e.g. `np.int64` or `np.int32` to specify the precision. If you wish to review your current use, check the release note link for additional information.\n",
      "Deprecated in NumPy 1.20; for more details and guidance: https://numpy.org/devdocs/release/1.20.0-notes.html#deprecations\n",
      "  xCenter  = np.int(np.mean(self.nonZeroX + self.xLeft))\n"
     ]
    },
    {
     "name": "stdout",
     "output_type": "stream",
     "text": [
      "[-1.15628528e-03  1.21064937e+00  1.91818702e+02]\n",
      "......................................................................\n"
     ]
    },
    {
     "name": "stderr",
     "output_type": "stream",
     "text": [
      "/tmp/ipykernel_36675/4095638702.py:64: DeprecationWarning: `np.int` is a deprecated alias for the builtin `int`. To silence this warning, use `int` by itself. Doing this will not modify any behavior and is safe. When replacing `np.int`, you may wish to use e.g. `np.int64` or `np.int32` to specify the precision. If you wish to review your current use, check the release note link for additional information.\n",
      "Deprecated in NumPy 1.20; for more details and guidance: https://numpy.org/devdocs/release/1.20.0-notes.html#deprecations\n",
      "  xCenter  = np.int(np.mean(self.nonZeroX + self.xLeft))\n",
      "/tmp/ipykernel_36675/4095638702.py:64: DeprecationWarning: `np.int` is a deprecated alias for the builtin `int`. To silence this warning, use `int` by itself. Doing this will not modify any behavior and is safe. When replacing `np.int`, you may wish to use e.g. `np.int64` or `np.int32` to specify the precision. If you wish to review your current use, check the release note link for additional information.\n",
      "Deprecated in NumPy 1.20; for more details and guidance: https://numpy.org/devdocs/release/1.20.0-notes.html#deprecations\n",
      "  xCenter  = np.int(np.mean(self.nonZeroX + self.xLeft))\n"
     ]
    },
    {
     "name": "stdout",
     "output_type": "stream",
     "text": [
      "[-3.40888415e-05  1.31578426e-01  4.27535426e+02]\n",
      "......................................................................\n"
     ]
    },
    {
     "name": "stderr",
     "output_type": "stream",
     "text": [
      "/tmp/ipykernel_36675/4095638702.py:64: DeprecationWarning: `np.int` is a deprecated alias for the builtin `int`. To silence this warning, use `int` by itself. Doing this will not modify any behavior and is safe. When replacing `np.int`, you may wish to use e.g. `np.int64` or `np.int32` to specify the precision. If you wish to review your current use, check the release note link for additional information.\n",
      "Deprecated in NumPy 1.20; for more details and guidance: https://numpy.org/devdocs/release/1.20.0-notes.html#deprecations\n",
      "  xCenter  = np.int(np.mean(self.nonZeroX + self.xLeft))\n",
      "/tmp/ipykernel_36675/4095638702.py:64: DeprecationWarning: `np.int` is a deprecated alias for the builtin `int`. To silence this warning, use `int` by itself. Doing this will not modify any behavior and is safe. When replacing `np.int`, you may wish to use e.g. `np.int64` or `np.int32` to specify the precision. If you wish to review your current use, check the release note link for additional information.\n",
      "Deprecated in NumPy 1.20; for more details and guidance: https://numpy.org/devdocs/release/1.20.0-notes.html#deprecations\n",
      "  xCenter  = np.int(np.mean(self.nonZeroX + self.xLeft))\n"
     ]
    },
    {
     "name": "stdout",
     "output_type": "stream",
     "text": [
      "[ 1.57717339e-04 -3.32101820e-01  6.29901444e+02]\n",
      "......................................................................\n"
     ]
    },
    {
     "name": "stderr",
     "output_type": "stream",
     "text": [
      "/tmp/ipykernel_36675/4095638702.py:64: DeprecationWarning: `np.int` is a deprecated alias for the builtin `int`. To silence this warning, use `int` by itself. Doing this will not modify any behavior and is safe. When replacing `np.int`, you may wish to use e.g. `np.int64` or `np.int32` to specify the precision. If you wish to review your current use, check the release note link for additional information.\n",
      "Deprecated in NumPy 1.20; for more details and guidance: https://numpy.org/devdocs/release/1.20.0-notes.html#deprecations\n",
      "  xCenter  = np.int(np.mean(self.nonZeroX + self.xLeft))\n",
      "/tmp/ipykernel_36675/4095638702.py:64: DeprecationWarning: `np.int` is a deprecated alias for the builtin `int`. To silence this warning, use `int` by itself. Doing this will not modify any behavior and is safe. When replacing `np.int`, you may wish to use e.g. `np.int64` or `np.int32` to specify the precision. If you wish to review your current use, check the release note link for additional information.\n",
      "Deprecated in NumPy 1.20; for more details and guidance: https://numpy.org/devdocs/release/1.20.0-notes.html#deprecations\n",
      "  xCenter  = np.int(np.mean(self.nonZeroX + self.xLeft))\n"
     ]
    },
    {
     "name": "stdout",
     "output_type": "stream",
     "text": [
      "[ 6.73348094e-05 -1.57539086e-01  5.53179039e+02]\n",
      "......................................................................\n"
     ]
    },
    {
     "name": "stderr",
     "output_type": "stream",
     "text": [
      "/tmp/ipykernel_36675/4095638702.py:64: DeprecationWarning: `np.int` is a deprecated alias for the builtin `int`. To silence this warning, use `int` by itself. Doing this will not modify any behavior and is safe. When replacing `np.int`, you may wish to use e.g. `np.int64` or `np.int32` to specify the precision. If you wish to review your current use, check the release note link for additional information.\n",
      "Deprecated in NumPy 1.20; for more details and guidance: https://numpy.org/devdocs/release/1.20.0-notes.html#deprecations\n",
      "  xCenter  = np.int(np.mean(self.nonZeroX + self.xLeft))\n",
      "/tmp/ipykernel_36675/4095638702.py:64: DeprecationWarning: `np.int` is a deprecated alias for the builtin `int`. To silence this warning, use `int` by itself. Doing this will not modify any behavior and is safe. When replacing `np.int`, you may wish to use e.g. `np.int64` or `np.int32` to specify the precision. If you wish to review your current use, check the release note link for additional information.\n",
      "Deprecated in NumPy 1.20; for more details and guidance: https://numpy.org/devdocs/release/1.20.0-notes.html#deprecations\n",
      "  xCenter  = np.int(np.mean(self.nonZeroX + self.xLeft))\n"
     ]
    },
    {
     "name": "stdout",
     "output_type": "stream",
     "text": [
      "[ 1.27777819e-04 -2.56425451e-01  5.89688745e+02]\n",
      "......................................................................\n"
     ]
    },
    {
     "name": "stderr",
     "output_type": "stream",
     "text": [
      "/tmp/ipykernel_36675/4095638702.py:64: DeprecationWarning: `np.int` is a deprecated alias for the builtin `int`. To silence this warning, use `int` by itself. Doing this will not modify any behavior and is safe. When replacing `np.int`, you may wish to use e.g. `np.int64` or `np.int32` to specify the precision. If you wish to review your current use, check the release note link for additional information.\n",
      "Deprecated in NumPy 1.20; for more details and guidance: https://numpy.org/devdocs/release/1.20.0-notes.html#deprecations\n",
      "  xCenter  = np.int(np.mean(self.nonZeroX + self.xLeft))\n",
      "/tmp/ipykernel_36675/4095638702.py:64: DeprecationWarning: `np.int` is a deprecated alias for the builtin `int`. To silence this warning, use `int` by itself. Doing this will not modify any behavior and is safe. When replacing `np.int`, you may wish to use e.g. `np.int64` or `np.int32` to specify the precision. If you wish to review your current use, check the release note link for additional information.\n",
      "Deprecated in NumPy 1.20; for more details and guidance: https://numpy.org/devdocs/release/1.20.0-notes.html#deprecations\n",
      "  xCenter  = np.int(np.mean(self.nonZeroX + self.xLeft))\n"
     ]
    },
    {
     "name": "stdout",
     "output_type": "stream",
     "text": [
      "[-1.21712182e-03  1.46344150e+00  4.90778623e+01]\n",
      "......................................................................\n"
     ]
    },
    {
     "name": "stderr",
     "output_type": "stream",
     "text": [
      "/tmp/ipykernel_36675/4095638702.py:64: DeprecationWarning: `np.int` is a deprecated alias for the builtin `int`. To silence this warning, use `int` by itself. Doing this will not modify any behavior and is safe. When replacing `np.int`, you may wish to use e.g. `np.int64` or `np.int32` to specify the precision. If you wish to review your current use, check the release note link for additional information.\n",
      "Deprecated in NumPy 1.20; for more details and guidance: https://numpy.org/devdocs/release/1.20.0-notes.html#deprecations\n",
      "  xCenter  = np.int(np.mean(self.nonZeroX + self.xLeft))\n",
      "/tmp/ipykernel_36675/4095638702.py:64: DeprecationWarning: `np.int` is a deprecated alias for the builtin `int`. To silence this warning, use `int` by itself. Doing this will not modify any behavior and is safe. When replacing `np.int`, you may wish to use e.g. `np.int64` or `np.int32` to specify the precision. If you wish to review your current use, check the release note link for additional information.\n",
      "Deprecated in NumPy 1.20; for more details and guidance: https://numpy.org/devdocs/release/1.20.0-notes.html#deprecations\n",
      "  xCenter  = np.int(np.mean(self.nonZeroX + self.xLeft))\n"
     ]
    },
    {
     "name": "stdout",
     "output_type": "stream",
     "text": [
      "[ 5.12102047e-05 -2.15564719e-01  5.88151725e+02]\n",
      "......................................................................\n"
     ]
    },
    {
     "name": "stderr",
     "output_type": "stream",
     "text": [
      "/tmp/ipykernel_36675/4095638702.py:64: DeprecationWarning: `np.int` is a deprecated alias for the builtin `int`. To silence this warning, use `int` by itself. Doing this will not modify any behavior and is safe. When replacing `np.int`, you may wish to use e.g. `np.int64` or `np.int32` to specify the precision. If you wish to review your current use, check the release note link for additional information.\n",
      "Deprecated in NumPy 1.20; for more details and guidance: https://numpy.org/devdocs/release/1.20.0-notes.html#deprecations\n",
      "  xCenter  = np.int(np.mean(self.nonZeroX + self.xLeft))\n",
      "/tmp/ipykernel_36675/4095638702.py:64: DeprecationWarning: `np.int` is a deprecated alias for the builtin `int`. To silence this warning, use `int` by itself. Doing this will not modify any behavior and is safe. When replacing `np.int`, you may wish to use e.g. `np.int64` or `np.int32` to specify the precision. If you wish to review your current use, check the release note link for additional information.\n",
      "Deprecated in NumPy 1.20; for more details and guidance: https://numpy.org/devdocs/release/1.20.0-notes.html#deprecations\n",
      "  xCenter  = np.int(np.mean(self.nonZeroX + self.xLeft))\n"
     ]
    },
    {
     "name": "stdout",
     "output_type": "stream",
     "text": [
      "[ 8.78799421e-05 -2.70580721e-01  6.01986962e+02]\n",
      "......................................................................\n"
     ]
    },
    {
     "name": "stderr",
     "output_type": "stream",
     "text": [
      "/tmp/ipykernel_36675/4095638702.py:64: DeprecationWarning: `np.int` is a deprecated alias for the builtin `int`. To silence this warning, use `int` by itself. Doing this will not modify any behavior and is safe. When replacing `np.int`, you may wish to use e.g. `np.int64` or `np.int32` to specify the precision. If you wish to review your current use, check the release note link for additional information.\n",
      "Deprecated in NumPy 1.20; for more details and guidance: https://numpy.org/devdocs/release/1.20.0-notes.html#deprecations\n",
      "  xCenter  = np.int(np.mean(self.nonZeroX + self.xLeft))\n",
      "/tmp/ipykernel_36675/4095638702.py:64: DeprecationWarning: `np.int` is a deprecated alias for the builtin `int`. To silence this warning, use `int` by itself. Doing this will not modify any behavior and is safe. When replacing `np.int`, you may wish to use e.g. `np.int64` or `np.int32` to specify the precision. If you wish to review your current use, check the release note link for additional information.\n",
      "Deprecated in NumPy 1.20; for more details and guidance: https://numpy.org/devdocs/release/1.20.0-notes.html#deprecations\n",
      "  xCenter  = np.int(np.mean(self.nonZeroX + self.xLeft))\n"
     ]
    },
    {
     "name": "stdout",
     "output_type": "stream",
     "text": [
      "[ 3.75476124e-05 -1.76378059e-01  5.63572902e+02]\n",
      "......................................................................\n"
     ]
    },
    {
     "name": "stderr",
     "output_type": "stream",
     "text": [
      "/tmp/ipykernel_36675/4095638702.py:64: DeprecationWarning: `np.int` is a deprecated alias for the builtin `int`. To silence this warning, use `int` by itself. Doing this will not modify any behavior and is safe. When replacing `np.int`, you may wish to use e.g. `np.int64` or `np.int32` to specify the precision. If you wish to review your current use, check the release note link for additional information.\n",
      "Deprecated in NumPy 1.20; for more details and guidance: https://numpy.org/devdocs/release/1.20.0-notes.html#deprecations\n",
      "  xCenter  = np.int(np.mean(self.nonZeroX + self.xLeft))\n",
      "/tmp/ipykernel_36675/4095638702.py:64: DeprecationWarning: `np.int` is a deprecated alias for the builtin `int`. To silence this warning, use `int` by itself. Doing this will not modify any behavior and is safe. When replacing `np.int`, you may wish to use e.g. `np.int64` or `np.int32` to specify the precision. If you wish to review your current use, check the release note link for additional information.\n",
      "Deprecated in NumPy 1.20; for more details and guidance: https://numpy.org/devdocs/release/1.20.0-notes.html#deprecations\n",
      "  xCenter  = np.int(np.mean(self.nonZeroX + self.xLeft))\n"
     ]
    },
    {
     "name": "stdout",
     "output_type": "stream",
     "text": [
      "[ 6.38959216e-05 -2.25381976e-01  5.86579048e+02]\n",
      "......................................................................\n"
     ]
    },
    {
     "name": "stderr",
     "output_type": "stream",
     "text": [
      "/tmp/ipykernel_36675/4095638702.py:64: DeprecationWarning: `np.int` is a deprecated alias for the builtin `int`. To silence this warning, use `int` by itself. Doing this will not modify any behavior and is safe. When replacing `np.int`, you may wish to use e.g. `np.int64` or `np.int32` to specify the precision. If you wish to review your current use, check the release note link for additional information.\n",
      "Deprecated in NumPy 1.20; for more details and guidance: https://numpy.org/devdocs/release/1.20.0-notes.html#deprecations\n",
      "  xCenter  = np.int(np.mean(self.nonZeroX + self.xLeft))\n",
      "/tmp/ipykernel_36675/4095638702.py:64: DeprecationWarning: `np.int` is a deprecated alias for the builtin `int`. To silence this warning, use `int` by itself. Doing this will not modify any behavior and is safe. When replacing `np.int`, you may wish to use e.g. `np.int64` or `np.int32` to specify the precision. If you wish to review your current use, check the release note link for additional information.\n",
      "Deprecated in NumPy 1.20; for more details and guidance: https://numpy.org/devdocs/release/1.20.0-notes.html#deprecations\n",
      "  xCenter  = np.int(np.mean(self.nonZeroX + self.xLeft))\n"
     ]
    },
    {
     "name": "stdout",
     "output_type": "stream",
     "text": [
      "[ 6.84186969e-05 -2.26192799e-01  5.83060961e+02]\n",
      "......................................................................\n"
     ]
    },
    {
     "name": "stderr",
     "output_type": "stream",
     "text": [
      "/tmp/ipykernel_36675/4095638702.py:64: DeprecationWarning: `np.int` is a deprecated alias for the builtin `int`. To silence this warning, use `int` by itself. Doing this will not modify any behavior and is safe. When replacing `np.int`, you may wish to use e.g. `np.int64` or `np.int32` to specify the precision. If you wish to review your current use, check the release note link for additional information.\n",
      "Deprecated in NumPy 1.20; for more details and guidance: https://numpy.org/devdocs/release/1.20.0-notes.html#deprecations\n",
      "  xCenter  = np.int(np.mean(self.nonZeroX + self.xLeft))\n",
      "/tmp/ipykernel_36675/4095638702.py:64: DeprecationWarning: `np.int` is a deprecated alias for the builtin `int`. To silence this warning, use `int` by itself. Doing this will not modify any behavior and is safe. When replacing `np.int`, you may wish to use e.g. `np.int64` or `np.int32` to specify the precision. If you wish to review your current use, check the release note link for additional information.\n",
      "Deprecated in NumPy 1.20; for more details and guidance: https://numpy.org/devdocs/release/1.20.0-notes.html#deprecations\n",
      "  xCenter  = np.int(np.mean(self.nonZeroX + self.xLeft))\n"
     ]
    },
    {
     "name": "stdout",
     "output_type": "stream",
     "text": [
      "[ 7.58365817e-05 -2.38953520e-01  5.84570027e+02]\n",
      "......................................................................\n"
     ]
    },
    {
     "data": {
      "image/png": "[encoded data removed]",
      "text/plain": [
       "<Figure size 432x288 with 1 Axes>"
      ]
     },
     "metadata": {
      "needs_background": "light"
     },
     "output_type": "display_data"
    }
   ],
   "source": [
    "def main():\n",
    "    video = cv2.VideoCapture(\"Project_data/challenge_video.mp4\")\n",
    "    calib_params = calibrate_camera()\n",
    "    \n",
    "    while(video.isOpened()):\n",
    "        ret, frame = video.read()\n",
    "        if(ret):\n",
    "\n",
    "            # undis = undistort_camera(frame,calib_params)\n",
    "            # src,dst = clacWarpPoint(undis.shape[1], undis.shape[0])\n",
    "            # M,_ = perspective_transforms(src,dst)\n",
    "            # test = binaryImage(img,calib_params,threshold=\"dayTime-normal\")\n",
    "            test = drawLaneWarp(frame)\n",
    "            # print(ret)\n",
    "            print(\"......................................................................\")\n",
    "            cv2.imshow(\"lane\",test)\n",
    "            key = cv2.waitKey(int(1000/30))\n",
    "            if key == ord('q'):\n",
    "                break\n",
    "        else:\n",
    "            break\n",
    "\n",
    "    video.release()\n",
    "    cv2.destroyAllWindows()\n",
    "\n",
    "if __name__ == \"__main__\":\n",
    "    main()"
   ]
  }
 ],
 "metadata": {
  "interpreter": {
   "hash": "916dbcbb3f70747c44a77c7bcd40155683ae19c65e1c03b4aa3499c5328201f1"
  },
  "kernelspec": {
   "display_name": "Python 3.8.10 64-bit",
   "language": "python",
   "name": "python3"
  },
  "language_info": {
   "codemirror_mode": {
    "name": "ipython",
    "version": 3
   },
   "file_extension": ".py",
   "mimetype": "text/x-python",
   "name": "python",
   "nbconvert_exporter": "python",
   "pygments_lexer": "ipython3",
   "version": "3.8.10"
  },
  "orig_nbformat": 4
 },
 "nbformat": 4,
 "nbformat_minor": 2
}
